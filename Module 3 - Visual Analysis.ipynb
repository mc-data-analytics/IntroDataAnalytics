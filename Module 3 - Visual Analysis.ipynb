{
 "cells": [
  {
   "cell_type": "markdown",
   "metadata": {},
   "source": [
    "# Module 3 - Visual Analysis\n",
    "\n",
    "Module 2 focused on understanding the general structure of a dataset and some basic statistical information. However, numbers might not fully explain the characteristics in the data. Examples such as [Anscombe's Quartet](https://en.wikipedia.org/wiki/Anscombe%27s_quartet) and the [Datasaurus Dozen](https://www.autodeskresearch.com/publications/samestats) show us why it's important to visually explore the dataset.\n",
    "\n",
    "In this lesson, we will use the Python library `seaborn` for data visualization. There are many other libraries in Python that can also do data visualization, like `matplotlib`, `bokeh`, `plotly`, etc. "
   ]
  },
  {
   "cell_type": "code",
   "execution_count": null,
   "metadata": {},
   "outputs": [],
   "source": [
    "import pandas as pd\n",
    "import seaborn as sns\n",
    "\n",
    "# this shows chart outputs within the notebook\n",
    "%matplotlib inline  "
   ]
  },
  {
   "cell_type": "code",
   "execution_count": null,
   "metadata": {},
   "outputs": [],
   "source": [
    "filepath = \"datasets/gradedata.csv\"\n",
    "\n",
    "df = pd.read_csv(filepath)\n",
    "df.head()"
   ]
  },
  {
   "cell_type": "code",
   "execution_count": null,
   "metadata": {},
   "outputs": [],
   "source": [
    "df.describe()"
   ]
  },
  {
   "cell_type": "markdown",
   "metadata": {},
   "source": [
    "## Histogram\n",
    "\n",
    "Histograms are charts that show the distribution of data. In other words, histograms show where the data is gathered or clustered together (values occur frequently) and where they are sparse. A histogram can also help identify the area(s) where there might be outliers.\n",
    "\n",
    "A histogram that has one hump and is symmetrical is called a **normal distribution**. When the data is clustered on the right side, it has a **left-skew** (the sparse values spread out towards the left) and data clustered on the left side is a **right-skew** (sparse values are spread out towards the right). The sparse values on either side of the distribution are called the **tails**."
   ]
  },
  {
   "cell_type": "code",
   "execution_count": null,
   "metadata": {},
   "outputs": [],
   "source": [
    "# histogram for distribition of student grades\n",
    "sns.distplot(df['grade'], bins=10, kde=False)"
   ]
  },
  {
   "cell_type": "code",
   "execution_count": null,
   "metadata": {},
   "outputs": [],
   "source": [
    "# histogram for hours of study\n",
    "sns.distplot(df['hours'], bins=10, kde=False)"
   ]
  },
  {
   "cell_type": "markdown",
   "metadata": {},
   "source": [
    "## Boxplot\n",
    "\n",
    "Boxplots (also known as \"box-and-whisker plot\") are another way of showing the distribution of data. Unlike histograms which shows where all the data may be clustered or sparse, boxplots show the range for the innermost 50% of the data (called the **Interquartile Range** or IQR) with the median inside of the IQR. On each end of the boxplot are the **whiskers**, or fences, to mark the lower and upper ends for where there may be outliers in the data.\n",
    "\n",
    "![Boxplot](https://notebooks.azure.com/priesterkc/projects/images/raw/boxplot.png)\n",
    "Source: [Towards Data Science: Understanding Boxplots](https://towardsdatascience.com/understanding-boxplots-5e2df7bcbd51)\n",
    "*Image modifications by Kenisha Priester"
   ]
  },
  {
   "cell_type": "code",
   "execution_count": null,
   "metadata": {},
   "outputs": [],
   "source": [
    "# boxplot distribution of student grades\n",
    "sns.boxplot(df['grade'])"
   ]
  },
  {
   "cell_type": "code",
   "execution_count": null,
   "metadata": {},
   "outputs": [],
   "source": [
    "# boxplot distribution for student grade vs age\n",
    "sns.boxplot(x='age', y='grade', data=df)"
   ]
  },
  {
   "cell_type": "markdown",
   "metadata": {},
   "source": [
    "## Violinplot\n",
    "\n",
    "Violinplots combine a distribution curve (the smoothed-out, line graph version of a histogram) with boxplots to compare similarities and differences between the two methods to view the data's shape. This plot mirrors the distribution curve on both sides of the boxplot that is inside the chart."
   ]
  },
  {
   "cell_type": "code",
   "execution_count": null,
   "metadata": {},
   "outputs": [],
   "source": [
    "# distribution curve & boxplot of student grades\n",
    "sns.violinplot(df['grade'])"
   ]
  },
  {
   "cell_type": "code",
   "execution_count": null,
   "metadata": {},
   "outputs": [],
   "source": [
    "# distribution curve & boxplot for student grade vs age\n",
    "sns.violinplot(x='age', y='grade', data=df)"
   ]
  },
  {
   "cell_type": "markdown",
   "metadata": {},
   "source": [
    "## Countplot\n",
    "\n",
    "A countplot is the visual representation of the `value_counts` function in `pandas`. `value_counts` shows the frequency of items that are a particular value or category (for example, how many people like certain flavors of ice cream). The countplot is used to understand where there may be a majority or minority of items in each category."
   ]
  },
  {
   "cell_type": "code",
   "execution_count": null,
   "metadata": {},
   "outputs": [],
   "source": [
    "# frequency of students for each age category\n",
    "sns.countplot(df['age'])"
   ]
  },
  {
   "cell_type": "markdown",
   "metadata": {},
   "source": [
    "## Barplot\n",
    "\n",
    "Barplots are a part-to-part comparison chart and each bar is a statistical function value (such as mean, median, standard deviation, etc.). Seaborn's `barplot` function uses *mean* as its default statistical function."
   ]
  },
  {
   "cell_type": "code",
   "execution_count": null,
   "metadata": {},
   "outputs": [],
   "source": [
    "# average (mean) grade per age category\n",
    "sns.barplot(x=df['age'], y=df['grade'], ci=None)"
   ]
  },
  {
   "cell_type": "markdown",
   "metadata": {},
   "source": [
    "## Pie Chart\n",
    "\n",
    "Pie charts are a parts-to-whole comparison graph. Similar to countplots, pie charts are used to find a majority or minority category within the whole."
   ]
  },
  {
   "cell_type": "code",
   "execution_count": null,
   "metadata": {},
   "outputs": [],
   "source": [
    "# percentage of students by age\n",
    "df['age'].value_counts().plot(kind='pie', autopct='%1.1f%%')"
   ]
  },
  {
   "cell_type": "markdown",
   "metadata": {},
   "source": [
    "## Scatterplot\n",
    "\n",
    "A scatterplot compares two numerical features (columns of data), where one feature's values are plotted on the x-axis and the other feature's values are plotted on the y-axis. Scatterplots help us find any pattern in the data that shows how each feature may be related to each other."
   ]
  },
  {
   "cell_type": "code",
   "execution_count": null,
   "metadata": {},
   "outputs": [],
   "source": [
    "# compare hours of study vs test grade\n",
    "sns.scatterplot(x='hours', y='grade', data=df)"
   ]
  },
  {
   "cell_type": "code",
   "execution_count": null,
   "metadata": {},
   "outputs": [],
   "source": [
    "sns.boxplot(data=df)"
   ]
  },
  {
   "cell_type": "code",
   "execution_count": null,
   "metadata": {},
   "outputs": [],
   "source": []
  }
 ],
 "metadata": {
  "kernelspec": {
   "display_name": "Python 3",
   "language": "python",
   "name": "python3"
  },
  "language_info": {
   "codemirror_mode": {
    "name": "ipython",
    "version": 3
   },
   "file_extension": ".py",
   "mimetype": "text/x-python",
   "name": "python",
   "nbconvert_exporter": "python",
   "pygments_lexer": "ipython3",
   "version": "3.7.6"
  }
 },
 "nbformat": 4,
 "nbformat_minor": 4
}
